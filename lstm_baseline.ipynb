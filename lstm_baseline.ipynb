{
 "cells": [
  {
   "cell_type": "code",
   "execution_count": 1,
   "id": "4692e38b",
   "metadata": {},
   "outputs": [
    {
     "name": "stdout",
     "output_type": "stream",
     "text": [
      "bert_imdb.ipynb  cnn_imdb.ipynb  cnn_kd.ipynb  lstm_baseline.ipynb\r\n"
     ]
    }
   ],
   "source": [
    "ls"
   ]
  },
  {
   "cell_type": "code",
   "execution_count": 2,
   "id": "66af4ddd",
   "metadata": {},
   "outputs": [
    {
     "name": "stdout",
     "output_type": "stream",
     "text": [
      "/lustre03/project/6001103/dongxx\n"
     ]
    }
   ],
   "source": [
    "cd .."
   ]
  },
  {
   "cell_type": "code",
   "execution_count": 3,
   "id": "dae75cfd",
   "metadata": {},
   "outputs": [
    {
     "name": "stdout",
     "output_type": "stream",
     "text": [
      "\u001b[0m\u001b[38;5;27mbert-base-uncased\u001b[0m/  minic.ipynb         slurm-27337463.out  slurm-27741364.out\r\n",
      "ca.sh               \u001b[38;5;27mModel_parameter\u001b[0m/    slurm-27361055.out  slurm-27761768.out\r\n",
      "\u001b[38;5;27mdata140\u001b[0m/            read_data.ipynb     slurm-27672444.out  slurm-27764643.out\r\n",
      "dataset.ipynb       README.md           slurm-27675663.out  slurm-27767613.out\r\n",
      "\u001b[38;5;27mENV\u001b[0m/                \u001b[38;5;27mresult\u001b[0m/             slurm-27677361.out  slurm-27768146.out\r\n",
      "glove.6B.100d.txt   slurm-27063490.out  slurm-27678712.out  slurm-27768184.out\r\n",
      "glove.6B.200d.txt   slurm-27238879.out  slurm-27680260.out  slurm-27769053.out\r\n",
      "glove.6B.300d.txt   slurm-27240532.out  slurm-27684303.out  slurm-27789975.out\r\n",
      "glove.6B.50d.txt    slurm-27286357.out  slurm-27702914.out  slurm-27792112.out\r\n",
      "\u001b[38;5;27mIMDB_data\u001b[0m/          slurm-27292119.out  slurm-27702974.out  slurm-27792911.out\r\n",
      "\u001b[38;5;27mLSTMbaseline\u001b[0m/       slurm-27299984.out  slurm-27716640.out  slurm-27795501.out\r\n",
      "lstm.sh             slurm-27312560.out  slurm-27733599.out  t.sh\r\n",
      "\u001b[38;5;27mmimiciii\u001b[0m/           slurm-27312564.out  slurm-27736298.out  \u001b[38;5;27mtwitter_baseline\u001b[0m/\r\n",
      "mini3.ipynb         slurm-27331268.out  slurm-27739069.out  utils.ipynb\r\n"
     ]
    }
   ],
   "source": [
    "ls\n"
   ]
  },
  {
   "cell_type": "code",
   "execution_count": 4,
   "id": "6d4293a4",
   "metadata": {},
   "outputs": [
    {
     "name": "stdout",
     "output_type": "stream",
     "text": [
      "/lustre03/project/6001103/dongxx/LSTMbaseline\n"
     ]
    }
   ],
   "source": [
    "cd LSTMbaseline/"
   ]
  },
  {
   "cell_type": "code",
   "execution_count": 5,
   "id": "aade4009",
   "metadata": {},
   "outputs": [
    {
     "name": "stdout",
     "output_type": "stream",
     "text": [
      "ca.py             run_bert_ft_classifier.py\r\n",
      "CHANGELOG.md      run_bert_training_classifier.py\r\n",
      "cnn_kd.py         run_cnn_classifier.py\r\n",
      "config.py         run_kd_lstm_atten_classifier.py\r\n",
      "dataloader.py     run_kd_lstm_classifier.py\r\n",
      "data_prepare.py   run_lstm_baseline_classifier.py\r\n",
      "earlystopping.py  run_lstm_classifier.py\r\n",
      "eval.py           run_lstm_kd_classifier.py\r\n",
      "\u001b[0m\u001b[38;5;27mman\u001b[0m/              testing_kd.py\r\n",
      "model.py          test.py\r\n",
      "models.py         train.py\r\n",
      "\u001b[38;5;27m__pycache__\u001b[0m/      Untitled.ipynb\r\n",
      "README.md         utils.py\r\n",
      "run_atten.py\r\n"
     ]
    }
   ],
   "source": [
    "ls\n"
   ]
  },
  {
   "cell_type": "code",
   "execution_count": 7,
   "id": "4d8b3150",
   "metadata": {},
   "outputs": [],
   "source": [
    "from models import CNN_Baseline,LSTMBaseline\n",
    "from run_lstm_baseline_classifier import validate, prepare_dateset,generate_batch,weight_matrix\n",
    "import torch\n",
    "import torch\n",
    "import torch.nn as nn\n",
    "import numpy as np\n",
    "from torch.utils.data import DataLoader\n",
    "from torchtext.vocab import GloVe,Vocab,Vectors\n",
    "from tqdm import tqdm\n",
    "from utils import IMDB_indexing, pad_sequenc,pad_sequencing\n",
    "from models import CNN_Baseline,LSTMBaseline\n",
    "import torchtext.vocab\n",
    "import csv\n",
    "import pandas as pd\n",
    "import argparse\n",
    "import logging\n",
    "import os\n",
    "import pickle\n",
    "import sys\n",
    "import config\n",
    "config.seed_torch()\n",
    "from collections import Counter\n",
    "import time\n",
    "import copy"
   ]
  },
  {
   "cell_type": "code",
   "execution_count": 8,
   "id": "44c84904",
   "metadata": {},
   "outputs": [],
   "source": [
    "device = torch.device('cuda' if torch.cuda.is_available() else 'cpu')\n"
   ]
  },
  {
   "cell_type": "code",
   "execution_count": 9,
   "id": "62ef745c",
   "metadata": {},
   "outputs": [],
   "source": [
    "test = '/home/dongxx/projects/def-mercer/dongxx/IMDB_data/test.csv'\n",
    "valid = '/home/dongxx/projects/def-mercer/dongxx/IMDB_data/valid.csv'\n",
    "train ='/home/dongxx/projects/def-mercer/dongxx/IMDB_data/train.csv'"
   ]
  },
  {
   "cell_type": "code",
   "execution_count": 10,
   "id": "78a7c3ad",
   "metadata": {},
   "outputs": [
    {
     "name": "stderr",
     "output_type": "stream",
     "text": [
      "Load Glove: : 400000it [00:03, 130512.14it/s]\n"
     ]
    }
   ],
   "source": [
    "counter2 = Counter({'<unk>': 400002, '<pad>': 400001})\n",
    "glove = Vectors(name='../glove.6B.100d.txt')\n",
    "f = open('../glove.6B.{}d.txt'.format(100), 'r')\n",
    "loop = tqdm(f)\n",
    "vob = {}\n",
    "loop.set_description('Load Glove')\n",
    "for i,line in enumerate(loop):\n",
    "    values = line.split()\n",
    "    word = values[0]\n",
    "    vob[word] =400000-i\n",
    "counter1 = copy.deepcopy(vob)\n",
    "f.close()\n",
    "counter1.update(counter2)\n",
    "vocab = Vocab(counter1)"
   ]
  },
  {
   "cell_type": "code",
   "execution_count": 13,
   "id": "82c6c020",
   "metadata": {},
   "outputs": [
    {
     "name": "stdout",
     "output_type": "stream",
     "text": [
      "Start loading training data\n",
      "Finish loading training data\n",
      "Start loading validation data\n",
      "Finish loading validation data\n",
      "Start loading testing data\n",
      "Finish loading testing data\n",
      "prepare training and test sets\n"
     ]
    },
    {
     "name": "stderr",
     "output_type": "stream",
     "text": [
      "20000lines [00:03, 5959.87lines/s]\n",
      "5000lines [00:00, 6019.98lines/s]\n",
      "25000lines [00:04, 6182.02lines/s]\n"
     ]
    },
    {
     "name": "stdout",
     "output_type": "stream",
     "text": [
      "building vocab\n"
     ]
    },
    {
     "data": {
      "text/plain": [
       "<All keys matched successfully>"
      ]
     },
     "execution_count": 13,
     "metadata": {},
     "output_type": "execute_result"
    }
   ],
   "source": [
    "train_dataset, validation_dataset,test_dataset,labellist = prepare_dateset(train, valid,test,vocab)\n",
    "testing = DataLoader(test_dataset, collate_fn= generate_batch, batch_size=32, shuffle=False)\n",
    "LSTM_model =LSTMBaseline(vocab_size = 400002,hidden_dim =256 , n_layers = 1, dropout = 0.25, number_class = 2, bidirectional = False, embedding_dim =100)\n",
    "LSTM_model.embedding_layer.weight.data.copy_(weight_matrix(vocab,glove)).to(device)\n",
    "LSTM_model.embedding_layer.weight.data[1] = torch.zeros(100)\n",
    "LSTM_model.embedding_layer.weight.data[0] = torch.zeros(100)\n",
    "LSTM_model.to(device)\n",
    "criterion = nn.CrossEntropyLoss()\n",
    "criterion.to(device)\n",
    "LSTM_model.load_state_dict(torch.load(config.MODEL_Base_PATH))\n",
    "\n",
    "\n"
   ]
  },
  {
   "cell_type": "code",
   "execution_count": 14,
   "id": "246fc173",
   "metadata": {},
   "outputs": [],
   "source": [
    "test_loss, test_acc,flat_list = validate(testing,LSTM_model,criterion,device)\n",
    "\n"
   ]
  },
  {
   "cell_type": "code",
   "execution_count": 15,
   "id": "3aebd7c7",
   "metadata": {},
   "outputs": [],
   "source": [
    "pred_list =[item.cpu().numpy() for sublist in flat_list for item in sublist]"
   ]
  },
  {
   "cell_type": "code",
   "execution_count": 16,
   "id": "a51ccdbf",
   "metadata": {},
   "outputs": [
    {
     "name": "stdout",
     "output_type": "stream",
     "text": [
      "Test Loss: 0.312 | Test Acc: 86.39%\n"
     ]
    }
   ],
   "source": [
    "print(f'Test Loss: {test_loss:.3f} | Test Acc: {test_acc * 100:.2f}%')"
   ]
  },
  {
   "cell_type": "code",
   "execution_count": 17,
   "id": "8f7a1577",
   "metadata": {},
   "outputs": [
    {
     "name": "stdout",
     "output_type": "stream",
     "text": [
      "testing done\n"
     ]
    }
   ],
   "source": [
    "print(\"testing done\")"
   ]
  },
  {
   "cell_type": "code",
   "execution_count": 18,
   "id": "f8ed1a69",
   "metadata": {},
   "outputs": [],
   "source": [
    "from sklearn.model_selection import train_test_split\n",
    "from sklearn.preprocessing import LabelEncoder\n",
    "from sklearn.metrics import confusion_matrix, classification_report, accuracy_score"
   ]
  },
  {
   "cell_type": "code",
   "execution_count": 19,
   "id": "37c42f25",
   "metadata": {},
   "outputs": [],
   "source": [
    "import matplotlib.pyplot as plt\n",
    "import itertools"
   ]
  },
  {
   "cell_type": "code",
   "execution_count": 20,
   "id": "f5a158c2",
   "metadata": {},
   "outputs": [],
   "source": [
    "def plot_confusion_matrix(cm, classes,\n",
    "                          title='Confusion matrix',\n",
    "                          cmap=plt.cm.Blues):\n",
    "    \"\"\"\n",
    "    This function prints and plots the confusion matrix.\n",
    "    Normalization can be applied by setting `normalize=True`.\n",
    "    \"\"\"\n",
    "\n",
    "    cm = cm.astype('float') / cm.sum(axis=1)[:, np.newaxis]\n",
    "\n",
    "    plt.imshow(cm, interpolation='nearest', cmap=cmap)\n",
    "    plt.title(title, fontsize=30)\n",
    "    plt.colorbar()\n",
    "    tick_marks = np.arange(len(classes))\n",
    "    plt.xticks(tick_marks, classes, rotation=90, fontsize=22)\n",
    "    plt.yticks(tick_marks, classes, fontsize=22)\n",
    "\n",
    "    fmt = '.2f'\n",
    "    thresh = cm.max() / 2.\n",
    "    for i, j in itertools.product(range(cm.shape[0]), range(cm.shape[1])):\n",
    "        plt.text(j, i, format(cm[i, j], fmt),\n",
    "                 horizontalalignment=\"center\",\n",
    "                 color=\"white\" if cm[i, j] > thresh else \"black\")\n",
    "\n",
    "    plt.ylabel('True label', fontsize=25)\n",
    "    plt.xlabel('Predicted label', fontsize=25)"
   ]
  },
  {
   "cell_type": "code",
   "execution_count": 21,
   "id": "006d90da",
   "metadata": {},
   "outputs": [
    {
     "data": {
      "image/png": "[encoded data removed]",
      "text/plain": [
       "<Figure size 864x864 with 2 Axes>"
      ]
     },
     "metadata": {
      "needs_background": "light"
     },
     "output_type": "display_data"
    }
   ],
   "source": [
    "cnf_matrix = confusion_matrix(labellist, pred_list)\n",
    "plt.figure(figsize=(12,12))\n",
    "plot_confusion_matrix(cnf_matrix, classes=[0,1], title=\"Confusion matrix\")\n",
    "plt.show()"
   ]
  },
  {
   "cell_type": "code",
   "execution_count": 22,
   "id": "fb9f4a7e",
   "metadata": {},
   "outputs": [
    {
     "name": "stdout",
     "output_type": "stream",
     "text": [
      "              precision    recall  f1-score   support\n",
      "\n",
      "           0       0.87      0.85      0.86     12500\n",
      "           1       0.85      0.88      0.87     12500\n",
      "\n",
      "    accuracy                           0.86     25000\n",
      "   macro avg       0.86      0.86      0.86     25000\n",
      "weighted avg       0.86      0.86      0.86     25000\n",
      "\n"
     ]
    }
   ],
   "source": [
    "print(classification_report(labellist, pred_list))"
   ]
  },
  {
   "cell_type": "code",
   "execution_count": null,
   "id": "a73737a9",
   "metadata": {},
   "outputs": [],
   "source": []
  },
  {
   "cell_type": "code",
   "execution_count": null,
   "id": "e8b1781b",
   "metadata": {},
   "outputs": [],
   "source": []
  }
 ],
 "metadata": {
  "kernelspec": {
   "display_name": "Python 3 (ipykernel)",
   "language": "python",
   "name": "python3"
  },
  "language_info": {
   "codemirror_mode": {
    "name": "ipython",
    "version": 3
   },
   "file_extension": ".py",
   "mimetype": "text/x-python",
   "name": "python",
   "nbconvert_exporter": "python",
   "pygments_lexer": "ipython3",
   "version": "3.7.9"
  }
 },
 "nbformat": 4,
 "nbformat_minor": 5
}
