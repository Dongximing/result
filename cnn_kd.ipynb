{
 "cells": [
  {
   "cell_type": "code",
   "execution_count": 6,
   "id": "38298d35",
   "metadata": {},
   "outputs": [
    {
     "name": "stdout",
     "output_type": "stream",
     "text": [
      "ca.py             run_bert_ft_classifier.py\r\n",
      "CHANGELOG.md      run_bert_training_classifier.py\r\n",
      "cnn_kd.py         run_cnn_classifier.py\r\n",
      "config.py         run_kd_lstm_atten_classifier.py\r\n",
      "dataloader.py     run_kd_lstm_classifier.py\r\n",
      "data_prepare.py   run_lstm_baseline_classifier.py\r\n",
      "earlystopping.py  run_lstm_classifier.py\r\n",
      "eval.py           run_lstm_kd_classifier.py\r\n",
      "model.py          testing_kd.py\r\n",
      "models.py         test.py\r\n",
      "\u001b[0m\u001b[38;5;27m__pycache__\u001b[0m/      train.py\r\n",
      "README.md         Untitled.ipynb\r\n",
      "run_atten.py      utils.py\r\n"
     ]
    }
   ],
   "source": [
    "ls"
   ]
  },
  {
   "cell_type": "code",
   "execution_count": 7,
   "id": "d67558e0",
   "metadata": {},
   "outputs": [
    {
     "name": "stdout",
     "output_type": "stream",
     "text": [
      "/project/6006178/dongxx\n"
     ]
    }
   ],
   "source": [
    "cd .."
   ]
  },
  {
   "cell_type": "code",
   "execution_count": 8,
   "id": "987ea972",
   "metadata": {},
   "outputs": [
    {
     "name": "stdout",
     "output_type": "stream",
     "text": [
      "/project/6006178/dongxx/LSTMbaseline\n"
     ]
    }
   ],
   "source": [
    "cd LSTMbaseline/"
   ]
  },
  {
   "cell_type": "code",
   "execution_count": 9,
   "id": "ad46ab0c",
   "metadata": {},
   "outputs": [
    {
     "name": "stdout",
     "output_type": "stream",
     "text": [
      "ca.py             run_bert_ft_classifier.py\r\n",
      "CHANGELOG.md      run_bert_training_classifier.py\r\n",
      "cnn_kd.py         run_cnn_classifier.py\r\n",
      "config.py         run_kd_lstm_atten_classifier.py\r\n",
      "dataloader.py     run_kd_lstm_classifier.py\r\n",
      "data_prepare.py   run_lstm_baseline_classifier.py\r\n",
      "earlystopping.py  run_lstm_classifier.py\r\n",
      "eval.py           run_lstm_kd_classifier.py\r\n",
      "model.py          testing_kd.py\r\n",
      "models.py         test.py\r\n",
      "\u001b[0m\u001b[38;5;27m__pycache__\u001b[0m/      train.py\r\n",
      "README.md         Untitled.ipynb\r\n",
      "run_atten.py      utils.py\r\n"
     ]
    }
   ],
   "source": [
    "ls"
   ]
  },
  {
   "cell_type": "code",
   "execution_count": 11,
   "id": "4f1cc31b",
   "metadata": {},
   "outputs": [],
   "source": [
    "from models import CNN_Baseline,LSTMBaseline\n",
    "from run_cnn_classifier import validate, prepare_dateset,generate_batch,weight_matrix\n",
    "from run_bert_ft_classifier import epoch_time\n",
    "import torch\n",
    "import torch\n",
    "import torch.nn as nn\n",
    "import numpy as np\n",
    "from torch.utils.data import DataLoader\n",
    "from torchtext.vocab import GloVe,Vocab,Vectors\n",
    "from tqdm import tqdm\n",
    "from utils import IMDB_indexing, pad_sequenc,pad_sequencing\n",
    "from models import CNN_Baseline,LSTMBaseline\n",
    "import torchtext.vocab\n",
    "import csv\n",
    "import pandas as pd\n",
    "import argparse\n",
    "import logging\n",
    "import os\n",
    "import pickle\n",
    "import sys\n",
    "import config\n",
    "config.seed_torch()\n",
    "from collections import Counter\n",
    "import time\n",
    "import copy"
   ]
  },
  {
   "cell_type": "code",
   "execution_count": 12,
   "id": "1b1445fb",
   "metadata": {},
   "outputs": [],
   "source": [
    "device = torch.device('cuda' if torch.cuda.is_available() else 'cpu')\n",
    "\n"
   ]
  },
  {
   "cell_type": "code",
   "execution_count": 13,
   "id": "529d92c8",
   "metadata": {},
   "outputs": [],
   "source": [
    "test = '/home/dongxx/projects/def-parimala/dongxx/data/test.csv'\n",
    "valid = '/home/dongxx/projects/def-parimala/dongxx/data/valid.csv'\n",
    "train ='/home/dongxx/projects/def-parimala/dongxx/data/train.csv'"
   ]
  },
  {
   "cell_type": "code",
   "execution_count": 14,
   "id": "1346d2a4",
   "metadata": {},
   "outputs": [
    {
     "name": "stderr",
     "output_type": "stream",
     "text": [
      "Load Glove: : 400000it [00:03, 107183.76it/s]\n"
     ]
    }
   ],
   "source": [
    "counter2 = Counter({'<unk>': 400002, '<pad>': 400001})\n",
    "glove = Vectors(name='../glove.6B.100d.txt')\n",
    "f = open('../glove.6B.{}d.txt'.format(100), 'r')\n",
    "loop = tqdm(f)\n",
    "vob = {}\n",
    "loop.set_description('Load Glove')\n",
    "for i,line in enumerate(loop):\n",
    "    values = line.split()\n",
    "    word = values[0]\n",
    "    vob[word] =400000-i\n",
    "counter1 = copy.deepcopy(vob)\n",
    "f.close()\n",
    "counter1.update(counter2)\n",
    "vocab = Vocab(counter1)"
   ]
  },
  {
   "cell_type": "code",
   "execution_count": 15,
   "id": "da3cd8ca",
   "metadata": {},
   "outputs": [
    {
     "name": "stdout",
     "output_type": "stream",
     "text": [
      "Start loading training data\n",
      "Finish loading training data\n",
      "Start loading validation data\n",
      "Finish loading validation data\n",
      "Start loading testing data\n",
      "Finish loading testing data\n",
      "prepare training and test sets\n"
     ]
    },
    {
     "name": "stderr",
     "output_type": "stream",
     "text": [
      "20000lines [00:06, 3310.28lines/s]\n",
      "5000lines [00:01, 3662.24lines/s]\n",
      "25000lines [00:06, 3686.70lines/s]\n"
     ]
    },
    {
     "name": "stdout",
     "output_type": "stream",
     "text": [
      "building vocab\n",
      " | Epoch Time: 0m 21s\n"
     ]
    }
   ],
   "source": [
    "train_dataset, validation_dataset,test_dataset,labellist = prepare_dateset(train, valid,test,vocab)\n",
    "testing = DataLoader(test_dataset, collate_fn=generate_batch, batch_size=32, shuffle=False)\n",
    "cnn_model =CNN_Baseline(vocab_size =400002, nKernel = 64, ksz = [3,4,5],number_class = 2)\n",
    "\n",
    "cnn_model.embedding_layer.weight.data.copy_(weight_matrix(vocab, glove)).to(device)\n",
    "cnn_model.embedding_layer.weight.data[1] = torch.zeros(100)\n",
    "cnn_model.embedding_layer.weight.data[0] = torch.zeros(100)\n",
    "cnn_model.embedding_layer.weight.requires_grad = False\n",
    "criterion = nn.CrossEntropyLoss()\n",
    "criterion.to(device)\n",
    "cnn_model.to(device)\n",
    "cnn_model.load_state_dict(torch.load(config.MODEL_CNN_PATH_kd))\n",
    "start_time = time.time()\n",
    "test_loss, test_acc,flat_list = validate(testing,cnn_model,criterion,device)\n",
    "end_time = time.time()\n",
    "epoch_mins, epoch_secs = epoch_time(start_time, end_time)\n",
    "print(f' | Epoch Time: {epoch_mins}m {epoch_secs}s')"
   ]
  },
  {
   "cell_type": "code",
   "execution_count": 16,
   "id": "f371666e",
   "metadata": {},
   "outputs": [
    {
     "name": "stdout",
     "output_type": "stream",
     "text": [
      "Test Loss: 0.319 | Test Acc: 86.08%\n"
     ]
    }
   ],
   "source": [
    "print(f'Test Loss: {test_loss:.3f} | Test Acc: {test_acc * 100:.2f}%')"
   ]
  },
  {
   "cell_type": "code",
   "execution_count": 17,
   "id": "13f1ed40",
   "metadata": {},
   "outputs": [],
   "source": [
    "from sklearn.model_selection import train_test_split\n",
    "from sklearn.preprocessing import LabelEncoder\n",
    "from sklearn.metrics import confusion_matrix, classification_report, accuracy_score\n",
    "import matplotlib.pyplot as plt\n",
    "import itertools"
   ]
  },
  {
   "cell_type": "code",
   "execution_count": 18,
   "id": "e204cee5",
   "metadata": {},
   "outputs": [],
   "source": [
    "def plot_confusion_matrix(cm, classes,\n",
    "                          title='Confusion matrix',\n",
    "                          cmap=plt.cm.Blues):\n",
    "    \"\"\"\n",
    "    This function prints and plots the confusion matrix.\n",
    "    Normalization can be applied by setting `normalize=True`.\n",
    "    \"\"\"\n",
    "\n",
    "    cm = cm.astype('float') / cm.sum(axis=1)[:, np.newaxis]\n",
    "\n",
    "    plt.imshow(cm, interpolation='nearest', cmap=cmap)\n",
    "    plt.title(title, fontsize=30)\n",
    "    plt.colorbar()\n",
    "    tick_marks = np.arange(len(classes))\n",
    "    plt.xticks(tick_marks, classes, rotation=90, fontsize=22)\n",
    "    plt.yticks(tick_marks, classes, fontsize=22)\n",
    "\n",
    "    fmt = '.2f'\n",
    "    thresh = cm.max() / 2.\n",
    "    for i, j in itertools.product(range(cm.shape[0]), range(cm.shape[1])):\n",
    "        plt.text(j, i, format(cm[i, j], fmt),\n",
    "                 horizontalalignment=\"center\",\n",
    "                 color=\"white\" if cm[i, j] > thresh else \"black\")\n",
    "\n",
    "    plt.ylabel('True label', fontsize=25)\n",
    "    plt.xlabel('Predicted label', fontsize=25)"
   ]
  },
  {
   "cell_type": "code",
   "execution_count": 19,
   "id": "59d3f6ae",
   "metadata": {},
   "outputs": [],
   "source": [
    "pred_list =[item.cpu().numpy() for sublist in flat_list for item in sublist]"
   ]
  },
  {
   "cell_type": "code",
   "execution_count": 20,
   "id": "ddaf58e8",
   "metadata": {},
   "outputs": [
    {
     "data": {
      "image/png": "[encoded data removed]",
      "text/plain": [
       "<Figure size 864x864 with 2 Axes>"
      ]
     },
     "metadata": {
      "needs_background": "light"
     },
     "output_type": "display_data"
    }
   ],
   "source": [
    "cnf_matrix = confusion_matrix(labellist, pred_list)\n",
    "plt.figure(figsize=(12,12))\n",
    "plot_confusion_matrix(cnf_matrix, classes=[0,1], title=\"Confusion matrix\")\n",
    "plt.show()"
   ]
  },
  {
   "cell_type": "code",
   "execution_count": 21,
   "id": "5dffe3ab",
   "metadata": {},
   "outputs": [
    {
     "name": "stdout",
     "output_type": "stream",
     "text": [
      "              precision    recall  f1-score   support\n",
      "\n",
      "           0     0.8621    0.8594    0.8608     12500\n",
      "           1     0.8599    0.8626    0.8612     12500\n",
      "\n",
      "    accuracy                         0.8610     25000\n",
      "   macro avg     0.8610    0.8610    0.8610     25000\n",
      "weighted avg     0.8610    0.8610    0.8610     25000\n",
      "\n"
     ]
    }
   ],
   "source": [
    "print(classification_report(labellist, pred_list,digits =4 ))"
   ]
  },
  {
   "cell_type": "code",
   "execution_count": null,
   "id": "388792bf",
   "metadata": {},
   "outputs": [],
   "source": []
  }
 ],
 "metadata": {
  "kernelspec": {
   "display_name": "Python 3 (ipykernel)",
   "language": "python",
   "name": "python3"
  },
  "language_info": {
   "codemirror_mode": {
    "name": "ipython",
    "version": 3
   },
   "file_extension": ".py",
   "mimetype": "text/x-python",
   "name": "python",
   "nbconvert_exporter": "python",
   "pygments_lexer": "ipython3",
   "version": "3.7.9"
  }
 },
 "nbformat": 4,
 "nbformat_minor": 5
}
