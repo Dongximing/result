{
 "cells": [
  {
   "cell_type": "code",
   "execution_count": 1,
   "id": "399d38df",
   "metadata": {},
   "outputs": [
    {
     "name": "stdout",
     "output_type": "stream",
     "text": [
      "/project/6006178/dongxx\n"
     ]
    }
   ],
   "source": [
    "cd .."
   ]
  },
  {
   "cell_type": "code",
   "execution_count": 2,
   "id": "87baaf68",
   "metadata": {},
   "outputs": [
    {
     "name": "stdout",
     "output_type": "stream",
     "text": [
      "/project/6006178/dongxx/twitter_baseline\n"
     ]
    }
   ],
   "source": [
    "cd twitter_baseline"
   ]
  },
  {
   "cell_type": "code",
   "execution_count": 3,
   "id": "67321d92",
   "metadata": {},
   "outputs": [],
   "source": [
    "import config\n",
    "config.seed_torch()\n",
    "import torch\n",
    "import torch.nn as nn\n",
    "import numpy as np\n",
    "from torch.utils.data import DataLoader\n",
    "from torchtext.vocab import GloVe,Vocab,Vectors\n",
    "from tqdm import tqdm\n",
    "from utils import Twitter_indexing, pad_sequenc,pad_sequencing\n",
    "from models import CNN_Baseline,LSTMBaseline\n",
    "from lstm_baseline import validate, prepare_dateset,generate_batch,weight_matrix,epoch_time\n",
    "from bert_train import epoch_time\n",
    "import torchtext.vocab\n",
    "import csv\n",
    "import pandas as pd\n",
    "import argparse\n",
    "import logging\n",
    "import os\n",
    "import pickle\n",
    "import sys\n",
    "import config\n",
    "config.seed_torch()\n",
    "from collections import Counter\n",
    "import time\n",
    "import copy"
   ]
  },
  {
   "cell_type": "code",
   "execution_count": 4,
   "id": "aed2dc5d",
   "metadata": {},
   "outputs": [],
   "source": [
    "device = torch.device('cuda' if torch.cuda.is_available() else 'cpu')\n",
    "\n"
   ]
  },
  {
   "cell_type": "code",
   "execution_count": 5,
   "id": "b452dc63",
   "metadata": {},
   "outputs": [],
   "source": [
    "test = '/home/dongxx/projects/def-parimala/dongxx/data140/test.csv'\n",
    "valid = '/home/dongxx/projects/def-parimala/dongxx/data140/valid.csv'\n",
    "train ='/home/dongxx/projects/def-parimala/dongxx/data140/train.csv'"
   ]
  },
  {
   "cell_type": "code",
   "execution_count": 6,
   "id": "201a6be5",
   "metadata": {},
   "outputs": [
    {
     "name": "stderr",
     "output_type": "stream",
     "text": [
      "Load Glove: : 400000it [00:04, 92338.26it/s]\n"
     ]
    }
   ],
   "source": [
    "counter2 = Counter({'<unk>': 400002, '<pad>': 400001})\n",
    "glove = Vectors(name='../glove.6B.100d.txt')\n",
    "f = open('../glove.6B.{}d.txt'.format(100), 'r')\n",
    "loop = tqdm(f)\n",
    "vob = {}\n",
    "loop.set_description('Load Glove')\n",
    "for i,line in enumerate(loop):\n",
    "    values = line.split()\n",
    "    word = values[0]\n",
    "    vob[word] =400000-i\n",
    "counter1 = copy.deepcopy(vob)\n",
    "f.close()\n",
    "counter1.update(counter2)\n",
    "vocab = Vocab(counter1)"
   ]
  },
  {
   "cell_type": "code",
   "execution_count": 7,
   "id": "040deb7d",
   "metadata": {},
   "outputs": [
    {
     "name": "stdout",
     "output_type": "stream",
     "text": [
      "Start loading training data\n",
      "Finish loading training data\n",
      "Start loading validation data\n",
      "Finish loading validation data\n",
      "Start loading testing data\n",
      "Finish loading testing data\n",
      "prepare training and test sets\n"
     ]
    },
    {
     "name": "stderr",
     "output_type": "stream",
     "text": [
      "1280000lines [01:04, 19734.07lines/s]\n",
      "160000lines [00:08, 19786.49lines/s]\n",
      "160000lines [00:07, 21958.86lines/s]\n"
     ]
    },
    {
     "name": "stdout",
     "output_type": "stream",
     "text": [
      "building vocab\n"
     ]
    },
    {
     "data": {
      "text/plain": [
       "<All keys matched successfully>"
      ]
     },
     "execution_count": 7,
     "metadata": {},
     "output_type": "execute_result"
    }
   ],
   "source": [
    "train_dataset, validation_dataset,test_dataset,labellist = prepare_dateset(train, valid,test,vocab)\n",
    "testing = DataLoader(test_dataset, collate_fn= generate_batch, batch_size=128, shuffle=False)\n",
    "LSTM_model =LSTMBaseline(vocab_size = 400002,hidden_dim =256 , n_layers = 2, dropout = 0.25, number_class = 2, bidirectional = True, embedding_dim =100)\n",
    "LSTM_model.embedding_layer.weight.data.copy_(weight_matrix(vocab,glove)).to(device)\n",
    "LSTM_model.embedding_layer.weight.data[1] = torch.zeros(100)\n",
    "LSTM_model.embedding_layer.weight.data[0] = torch.zeros(100)\n",
    "LSTM_model.to(device)\n",
    "criterion = nn.CrossEntropyLoss()\n",
    "criterion.to(device)\n",
    "LSTM_model.load_state_dict(torch.load(config.MODEL_Base_PATH_Tittwer))"
   ]
  },
  {
   "cell_type": "code",
   "execution_count": 8,
   "id": "65c9d717",
   "metadata": {},
   "outputs": [
    {
     "name": "stdout",
     "output_type": "stream",
     "text": [
      " | Epoch Time: 0m 14s\n"
     ]
    }
   ],
   "source": [
    "start_time = time.time()\n",
    "test_loss, test_acc,flat_list = validate(testing,LSTM_model,criterion,device)\n",
    "end_time = time.time()\n",
    "epoch_mins, epoch_secs = epoch_time(start_time, end_time)\n",
    "print(f' | Epoch Time: {epoch_mins}m {epoch_secs}s')\n",
    "\n"
   ]
  },
  {
   "cell_type": "code",
   "execution_count": 9,
   "id": "b8b6912c",
   "metadata": {},
   "outputs": [
    {
     "name": "stdout",
     "output_type": "stream",
     "text": [
      "Test Loss: 0.353 | Test Acc: 84.37%\n"
     ]
    }
   ],
   "source": [
    "print(f'Test Loss: {test_loss:.3f} | Test Acc: {test_acc * 100:.2f}%')\n",
    "\n"
   ]
  },
  {
   "cell_type": "code",
   "execution_count": 10,
   "id": "9eab3639",
   "metadata": {},
   "outputs": [],
   "source": [
    "pred_list =[item.cpu().numpy() for sublist in flat_list for item in sublist]"
   ]
  },
  {
   "cell_type": "code",
   "execution_count": 11,
   "id": "ecee7ae2",
   "metadata": {},
   "outputs": [],
   "source": [
    "from sklearn.model_selection import train_test_split\n",
    "from sklearn.preprocessing import LabelEncoder\n",
    "from sklearn.metrics import confusion_matrix, classification_report, accuracy_score\n",
    "import matplotlib.pyplot as plt\n",
    "import itertools"
   ]
  },
  {
   "cell_type": "code",
   "execution_count": 12,
   "id": "2f43f406",
   "metadata": {},
   "outputs": [],
   "source": [
    "def plot_confusion_matrix(cm, classes,\n",
    "                          title='Confusion matrix',\n",
    "                          cmap=plt.cm.Blues):\n",
    "    \"\"\"\n",
    "    This function prints and plots the confusion matrix.\n",
    "    Normalization can be applied by setting `normalize=True`.\n",
    "    \"\"\"\n",
    "\n",
    "    cm = cm.astype('float') / cm.sum(axis=1)[:, np.newaxis]\n",
    "\n",
    "    plt.imshow(cm, interpolation='nearest', cmap=cmap)\n",
    "    plt.title(title, fontsize=30)\n",
    "    plt.colorbar()\n",
    "    tick_marks = np.arange(len(classes))\n",
    "    plt.xticks(tick_marks, classes, rotation=90, fontsize=22)\n",
    "    plt.yticks(tick_marks, classes, fontsize=22)\n",
    "\n",
    "    fmt = '.2f'\n",
    "    thresh = cm.max() / 2.\n",
    "    for i, j in itertools.product(range(cm.shape[0]), range(cm.shape[1])):\n",
    "        plt.text(j, i, format(cm[i, j], fmt),\n",
    "                 horizontalalignment=\"center\",\n",
    "                 color=\"white\" if cm[i, j] > thresh else \"black\")\n",
    "\n",
    "    plt.ylabel('True label', fontsize=25)\n",
    "    plt.xlabel('Predicted label', fontsize=25)"
   ]
  },
  {
   "cell_type": "code",
   "execution_count": 13,
   "id": "d0ca83b5",
   "metadata": {},
   "outputs": [
    {
     "data": {
      "image/png": "[encoded data removed]",
      "text/plain": [
       "<Figure size 864x864 with 2 Axes>"
      ]
     },
     "metadata": {
      "needs_background": "light"
     },
     "output_type": "display_data"
    }
   ],
   "source": [
    "cnf_matrix = confusion_matrix(labellist, pred_list)\n",
    "plt.figure(figsize=(12,12))\n",
    "plot_confusion_matrix(cnf_matrix, classes=[0,1], title=\"Confusion matrix\")\n",
    "plt.show()"
   ]
  },
  {
   "cell_type": "code",
   "execution_count": 14,
   "id": "5c4ba93e",
   "metadata": {},
   "outputs": [
    {
     "name": "stdout",
     "output_type": "stream",
     "text": [
      "              precision    recall  f1-score   support\n",
      "\n",
      "           0     0.8467    0.8394    0.8431     80000\n",
      "           1     0.8408    0.8480    0.8444     80000\n",
      "\n",
      "    accuracy                         0.8437    160000\n",
      "   macro avg     0.8438    0.8437    0.8437    160000\n",
      "weighted avg     0.8438    0.8437    0.8437    160000\n",
      "\n"
     ]
    }
   ],
   "source": [
    "print(classification_report(labellist, pred_list,digits=4))"
   ]
  },
  {
   "cell_type": "code",
   "execution_count": null,
   "id": "76e1816f",
   "metadata": {},
   "outputs": [],
   "source": []
  }
 ],
 "metadata": {
  "kernelspec": {
   "display_name": "Python 3 (ipykernel)",
   "language": "python",
   "name": "python3"
  },
  "language_info": {
   "codemirror_mode": {
    "name": "ipython",
    "version": 3
   },
   "file_extension": ".py",
   "mimetype": "text/x-python",
   "name": "python",
   "nbconvert_exporter": "python",
   "pygments_lexer": "ipython3",
   "version": "3.7.9"
  }
 },
 "nbformat": 4,
 "nbformat_minor": 5
}
